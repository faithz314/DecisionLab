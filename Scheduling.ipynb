{
 "cells": [
  {
   "cell_type": "markdown",
   "metadata": {},
   "source": [
    "| Availability| Time A | Time B      |\n",
    "| :---        |    :----:   |          ---: |\n",
    "| Person 1      | 1       | 1   |\n",
    "| Person 2   | 1        | 0|"
   ]
  },
  {
   "cell_type": "code",
   "execution_count": 1,
   "metadata": {},
   "outputs": [],
   "source": [
    "from ortools.linear_solver import pywraplp\n"
   ]
  },
  {
   "cell_type": "code",
   "execution_count": 81,
   "metadata": {},
   "outputs": [
    {
     "name": "stdout",
     "output_type": "stream",
     "text": [
      "[[1, 1, 0, 1, 0, 0, 0, 1, 0, 0], [0, 0, 0, 0, 0, 0, 0, 0, 0, 1], [1, 0, 1, 1, 1, 1, 0, 1, 1, 1], [1, 0, 0, 1, 1, 1, 0, 0, 1, 0], [1, 1, 0, 1, 1, 0, 1, 0, 0, 0], [1, 1, 1, 0, 1, 0, 1, 0, 1, 0], [0, 1, 1, 0, 0, 1, 1, 1, 1, 1], [0, 0, 0, 1, 1, 1, 1, 1, 1, 0], [1, 1, 0, 0, 0, 0, 1, 1, 0, 1], [1, 1, 1, 0, 0, 1, 1, 0, 0, 0], [1, 0, 1, 0, 0, 1, 1, 0, 1, 1], [0, 0, 1, 0, 1, 0, 0, 1, 0, 0], [1, 1, 1, 0, 1, 0, 0, 1, 1, 0], [0, 1, 0, 1, 1, 1, 0, 0, 1, 1], [0, 1, 0, 0, 0, 1, 1, 1, 1, 0], [0, 1, 0, 1, 0, 0, 1, 0, 0, 1], [0, 0, 0, 1, 1, 0, 0, 0, 0, 0], [0, 0, 1, 1, 1, 1, 1, 1, 1, 1], [1, 1, 1, 1, 1, 0, 0, 0, 0, 0], [1, 1, 0, 0, 1, 1, 0, 0, 0, 0], [0, 0, 0, 1, 0, 1, 0, 1, 1, 1], [0, 1, 1, 1, 1, 1, 1, 0, 0, 1], [0, 0, 1, 1, 1, 0, 1, 0, 0, 1], [1, 1, 0, 0, 0, 1, 1, 1, 0, 1], [1, 1, 1, 0, 1, 0, 1, 0, 0, 0], [1, 1, 1, 1, 1, 0, 1, 0, 1, 1], [0, 1, 0, 1, 1, 1, 1, 0, 0, 0], [0, 1, 1, 0, 1, 1, 0, 1, 0, 0], [0, 1, 1, 0, 1, 1, 0, 1, 1, 1], [1, 0, 1, 1, 1, 1, 1, 0, 1, 0], [1, 1, 0, 1, 1, 1, 0, 0, 0, 0], [0, 0, 1, 0, 1, 0, 0, 0, 0, 1], [1, 0, 0, 1, 1, 1, 1, 1, 1, 0], [1, 0, 0, 0, 1, 0, 0, 1, 0, 1], [1, 1, 1, 1, 0, 0, 1, 1, 0, 1], [0, 1, 1, 1, 0, 0, 1, 1, 1, 1], [0, 0, 1, 0, 0, 1, 1, 0, 0, 1], [1, 1, 1, 1, 1, 0, 1, 0, 1, 1], [0, 1, 0, 0, 1, 1, 0, 0, 0, 0], [0, 1, 1, 1, 0, 1, 0, 1, 0, 0], [0, 1, 1, 1, 1, 0, 0, 0, 1, 1], [1, 0, 1, 1, 0, 0, 1, 1, 1, 1], [0, 0, 1, 0, 0, 1, 1, 1, 0, 1], [1, 0, 1, 0, 0, 0, 1, 1, 0, 1], [1, 1, 0, 1, 1, 0, 0, 0, 0, 1], [0, 0, 1, 0, 0, 0, 1, 0, 0, 0], [0, 1, 0, 0, 1, 0, 1, 0, 1, 1], [0, 1, 0, 1, 0, 0, 1, 0, 1, 0], [1, 0, 0, 1, 0, 0, 1, 0, 0, 0], [1, 1, 0, 1, 0, 1, 1, 0, 0, 0], [0, 1, 0, 1, 1, 0, 0, 1, 1, 0], [0, 0, 1, 0, 1, 0, 1, 1, 1, 1], [0, 1, 0, 0, 1, 0, 0, 0, 0, 1], [1, 0, 0, 0, 1, 1, 1, 0, 1, 1], [0, 1, 1, 0, 1, 0, 0, 1, 0, 1], [0, 1, 1, 0, 0, 0, 1, 1, 1, 1], [1, 1, 1, 1, 0, 1, 1, 0, 1, 1], [1, 0, 0, 1, 1, 1, 1, 0, 1, 1], [0, 1, 1, 0, 0, 1, 0, 1, 0, 1], [0, 0, 0, 1, 0, 1, 0, 0, 1, 0], [0, 1, 0, 0, 1, 1, 0, 1, 0, 0], [1, 0, 0, 1, 1, 1, 1, 1, 0, 1], [0, 1, 1, 0, 1, 1, 0, 0, 1, 1], [1, 1, 0, 0, 0, 1, 1, 1, 0, 1], [1, 1, 1, 0, 0, 1, 0, 0, 0, 1], [1, 1, 0, 1, 0, 0, 1, 0, 1, 1], [0, 0, 0, 0, 1, 0, 1, 0, 1, 1], [1, 1, 1, 1, 1, 0, 0, 0, 0, 1], [1, 0, 0, 1, 1, 1, 1, 1, 1, 0], [0, 0, 0, 0, 1, 0, 1, 0, 1, 1], [0, 0, 1, 0, 0, 1, 1, 1, 1, 0], [0, 0, 0, 0, 0, 0, 0, 1, 1, 1], [0, 0, 1, 0, 1, 1, 1, 0, 1, 0], [1, 1, 1, 0, 0, 0, 1, 1, 0, 1], [0, 1, 0, 0, 1, 0, 1, 1, 0, 0], [1, 0, 0, 1, 0, 0, 0, 1, 0, 0], [0, 0, 0, 0, 0, 1, 0, 0, 0, 1], [0, 1, 0, 1, 1, 1, 1, 0, 0, 0], [0, 0, 1, 1, 1, 1, 0, 1, 1, 1], [1, 0, 1, 0, 1, 1, 0, 0, 0, 1], [1, 0, 0, 0, 1, 1, 1, 0, 0, 1], [0, 1, 0, 1, 0, 1, 1, 1, 1, 1], [1, 0, 0, 1, 1, 1, 1, 0, 1, 0], [0, 0, 0, 1, 1, 0, 0, 1, 0, 1], [1, 1, 0, 1, 1, 0, 1, 1, 0, 1], [0, 1, 1, 0, 0, 0, 0, 1, 1, 1], [1, 0, 1, 1, 1, 0, 0, 0, 1, 0], [1, 1, 0, 0, 1, 0, 0, 0, 1, 1], [0, 1, 0, 1, 1, 1, 0, 1, 1, 1], [1, 0, 0, 1, 1, 0, 1, 0, 1, 0]]\n"
     ]
    }
   ],
   "source": [
    "from random import randint\n",
    "#Generating random tests\n",
    "\"\"\"p = 90 #randint(3,5) #num_people\n",
    "t = 10 #randint(2,4) #num times\n",
    "l = []\n",
    "for i in range(p):\n",
    "    a = []\n",
    "    for j in range(t):\n",
    "        a.append(randint(0,1))\n",
    "    l.append(a)\n",
    "    \n",
    "print(l)\"\"\"\n",
    "\n",
    "#test = l"
   ]
  },
  {
   "cell_type": "code",
   "execution_count": 2,
   "metadata": {},
   "outputs": [],
   "source": [
    "\"\"\"\n",
    "test = [[1,1,0],\n",
    "          [0,1,1],\n",
    "          [0,1,0]]\n",
    "\"\"\"\n",
    "#test = [[1, 1, 0, 0, 1, 1], [1, 0, 0, 1, 0, 1], [0, 1, 0, 0, 0, 0], [0, 1, 1, 1, 0, 1], [1, 0, 1, 1, 0, 1], [1, 0, 0, 1, 1, 1], [0, 1, 1, 0, 1, 1], [0, 1, 0, 0, 0, 0]]\n",
    "\n",
    "test = [[1, 1, 1, 0], [1, 1, 1, 0], [0, 1, 1, 0], [1, 0, 0, 0]]\n",
    "num_people = len(test)\n",
    "num_timeslots = len(test[0])"
   ]
  },
  {
   "cell_type": "code",
   "execution_count": 3,
   "metadata": {},
   "outputs": [
    {
     "name": "stdout",
     "output_type": "stream",
     "text": [
      "Objective value = 2.0\n",
      "Timeslot 0  =  1.0\n",
      "Timeslot 1  =  1.0\n",
      "Timeslot 2  =  0.0\n",
      "Timeslot 3  =  0.0\n",
      "\n",
      "Problem solved in 28 milliseconds\n",
      "Problem solved in 0 iterations\n",
      "Problem solved in 0 branch-and-bound nodes\n"
     ]
    }
   ],
   "source": [
    "solver = pywraplp.Solver.CreateSolver(\"SCIP\")\n",
    "\n",
    "infinity = solver.infinity()\n",
    "x = {}\n",
    "\n",
    "#should meeting be held at timeslot i\n",
    "S = {}\n",
    "\n",
    "\n",
    "#list of x constraints\n",
    "\n",
    "\n",
    "for j in range(num_timeslots):\n",
    "    S[j] = solver.IntVar(0, 1, \"Timeslot {0}\".format(j))\n",
    "    for i in range(num_people):\n",
    "     x[i,j] = solver.IntVar(0, 1, \"x[{0},{1}]\".format(i,j))        \n",
    "\n",
    "        \n",
    "for i in range(num_people):\n",
    "    constraint = solver.RowConstraint(1, infinity, \"\")\n",
    "    for j in range(num_timeslots):\n",
    "        constraint.SetCoefficient(x[i,j], test[i][j])\n",
    "\n",
    "\n",
    "for j in range(num_timeslots):\n",
    "    constraint = solver.RowConstraint(0, infinity, \"\") \n",
    "    for i in range(num_people):\n",
    "        constraint.SetCoefficient(x[i,j], -1) \n",
    "    constraint.SetCoefficient(S[j], num_people) \n",
    "\n",
    "constraint = solver.RowConstraint(1, infinity, \"\") \n",
    "for j in range(num_timeslots):\n",
    "    constraint.SetCoefficient(S[j], 1) \n",
    "\n",
    "\n",
    "\n",
    "objective = solver.Objective()\n",
    "for j in range(num_timeslots):\n",
    "    objective.SetCoefficient(S[j], 1)\n",
    "objective.SetMinimization()\n",
    "\n",
    "status = solver.Solve()\n",
    "\n",
    "\n",
    "if status == pywraplp.Solver.OPTIMAL:\n",
    "    print(\"Objective value =\", solver.Objective().Value())\n",
    "    \n",
    "    \n",
    "    \"\"\"for i in range(3):\n",
    "        for j in range(3):\n",
    "            print(x[i,j].name(), \" = \", x[i,j].solution_value())\"\"\"\n",
    "    for j in range(num_timeslots):\n",
    "        print(S[j].name(), \" = \", S[j].solution_value())\n",
    "    print()\n",
    "    print(f\"Problem solved in {solver.wall_time():d} milliseconds\")\n",
    "    print(f\"Problem solved in {solver.iterations():d} iterations\")\n",
    "    print(f\"Problem solved in {solver.nodes():d} branch-and-bound nodes\")\n",
    "else:\n",
    "    print(\"The problem does not have an optimal solution.\")"
   ]
  },
  {
   "cell_type": "code",
   "execution_count": 4,
   "metadata": {},
   "outputs": [
    {
     "name": "stdout",
     "output_type": "stream",
     "text": [
      "{0: 3.0, 1: 1.0}\n"
     ]
    }
   ],
   "source": [
    "#num people at each choosen time slot \n",
    "attendance = {}\n",
    "for j in range(num_timeslots):\n",
    "    if S[j].solution_value():\n",
    "        count = 0\n",
    "        for i in range(num_people):\n",
    "            count += x[i,j].solution_value()\n",
    "        attendance[j] = count\n",
    "print(attendance)\n",
    "\n",
    "#TODO: account for overlap"
   ]
  },
  {
   "cell_type": "code",
   "execution_count": 5,
   "metadata": {},
   "outputs": [
    {
     "name": "stdout",
     "output_type": "stream",
     "text": [
      "{0: 3.0, 1: 1.0}\n"
     ]
    }
   ],
   "source": [
    "#num people at each choosen time slot  -- accounts for overlap\n",
    "attendance = {}\n",
    "\n",
    "#copies sol values into new dict\n",
    "\n",
    "x_mod = {}\n",
    "for j in range(num_timeslots):\n",
    "    for i in range(num_people):\n",
    "        x_mod[i,j] = x[i,j].solution_value()\n",
    "\n",
    "\n",
    "for j in range(num_timeslots):\n",
    "    if S[j].solution_value():\n",
    "        count = 0\n",
    "        for i in range(num_people): \n",
    "            count += x_mod[i,j]\n",
    "            if x_mod[i,j]:\n",
    "                for a in range(num_timeslots):\n",
    "                    x_mod[i,a] = 0\n",
    "        attendance[j] = count\n",
    "print(attendance)\n",
    "\n",
    "#print(sum(attendance.values())==num_people)"
   ]
  },
  {
   "cell_type": "code",
   "execution_count": null,
   "metadata": {},
   "outputs": [],
   "source": [
    "# check highest of attendance and then from their determine others"
   ]
  }
 ],
 "metadata": {
  "kernelspec": {
   "display_name": "Python 3",
   "language": "python",
   "name": "python3"
  },
  "language_info": {
   "codemirror_mode": {
    "name": "ipython",
    "version": 3
   },
   "file_extension": ".py",
   "mimetype": "text/x-python",
   "name": "python",
   "nbconvert_exporter": "python",
   "pygments_lexer": "ipython3",
   "version": "3.7.3"
  }
 },
 "nbformat": 4,
 "nbformat_minor": 2
}
